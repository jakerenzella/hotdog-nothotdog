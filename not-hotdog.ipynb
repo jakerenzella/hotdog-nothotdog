{
 "cells": [
  {
   "cell_type": "code",
   "execution_count": 1,
   "metadata": {
    "collapsed": true
   },
   "outputs": [],
   "source": [
    "from PIL import Image\n",
    "import numpy as np\n",
    "import h5py"
   ]
  },
  {
   "cell_type": "code",
   "execution_count": 2,
   "metadata": {
    "collapsed": true
   },
   "outputs": [],
   "source": [
    "h5py.enable_ipython_completer()"
   ]
  },
  {
   "cell_type": "code",
   "execution_count": 3,
   "metadata": {},
   "outputs": [
    {
     "name": "stderr",
     "output_type": "stream",
     "text": [
      "Using TensorFlow backend.\n"
     ]
    }
   ],
   "source": [
    "import keras\n",
    "from keras.preprocessing.image import ImageDataGenerator, array_to_img, img_to_array, load_img\n",
    "from keras.models import Sequential\n",
    "from keras.layers import Dense, Dropout, Flatten\n",
    "from keras.layers import Conv2D, MaxPooling2D\n",
    "from keras.utils import np_utils\n",
    "from keras import backend as K"
   ]
  },
  {
   "cell_type": "code",
   "execution_count": 4,
   "metadata": {
    "collapsed": true
   },
   "outputs": [],
   "source": [
    "import os"
   ]
  },
  {
   "cell_type": "code",
   "execution_count": 12,
   "metadata": {},
   "outputs": [],
   "source": [
    "def get_resized_image(image_dir, dimensions):\n",
    "    img = Image.open(image_dir)\n",
    "    return img.resize(dimensions)"
   ]
  },
  {
   "cell_type": "code",
   "execution_count": 5,
   "metadata": {},
   "outputs": [],
   "source": [
    "def resize_directory_images(in_directory, out_directory):\n",
    "    for subdir, dirs, files in os.walk(in_directory):\n",
    "        for file in files:\n",
    "            if file != '.DS_Store':\n",
    "                new_img = get_resized_image(in_directory + file, (128,128))\n",
    "                new_img.save(out_directory + file)"
   ]
  },
  {
   "cell_type": "code",
   "execution_count": 47,
   "metadata": {},
   "outputs": [],
   "source": [
    "#resize_directory_images('./training_data/hotdogs/', './resized_data/hotdogs/')\n",
    "#resize_directory_images('./training_data/hotdogs_testing/', './resized_data/hotdogs_testing/')\n",
    "#resize_directory_images('./training_data/not hotdogs/', './resized_data/not hotdogs/')\n",
    "#resize_directory_images('./training_data/notdogs_testing/', './resized_data/notdogs_testing/')\n",
    "# resize_directory_images('./more/', './resized_data/train/hotdogs/')"
   ]
  },
  {
   "cell_type": "code",
   "execution_count": 5,
   "metadata": {
    "collapsed": true
   },
   "outputs": [],
   "source": [
    "from keras.models import Sequential\n",
    "from keras.layers import Conv2D, MaxPooling2D\n",
    "from keras.layers import Activation, Dropout, Flatten, Dense\n",
    "from keras import backend as K"
   ]
  },
  {
   "cell_type": "code",
   "execution_count": 159,
   "metadata": {
    "collapsed": true
   },
   "outputs": [],
   "source": [
    "model = Sequential()\n",
    "model.add(Conv2D(32, (3, 3), input_shape=(128, 128, 3)))\n",
    "model.add(Activation('relu'))\n",
    "model.add(MaxPooling2D(pool_size=(2, 2)))\n",
    "\n",
    "model.add(Conv2D(32, (3, 3)))\n",
    "model.add(Activation('relu'))\n",
    "model.add(MaxPooling2D(pool_size=(2, 2)))\n",
    "\n",
    "model.add(Conv2D(64, (3, 3)))\n",
    "model.add(Activation('relu'))\n",
    "model.add(MaxPooling2D(pool_size=(2, 2)))\n",
    "\n",
    "model.add(Flatten())  # this converts our 3D feature maps to 1D feature vectors\n",
    "model.add(Dense(64))\n",
    "model.add(Activation('relu'))\n",
    "model.add(Dropout(0.5))\n",
    "model.add(Dense(1))\n",
    "model.add(Activation('sigmoid'))\n",
    "\n",
    "model.compile(loss='binary_crossentropy',\n",
    "              optimizer='rmsprop',\n",
    "              metrics=['accuracy'])"
   ]
  },
  {
   "cell_type": "code",
   "execution_count": 160,
   "metadata": {},
   "outputs": [],
   "source": [
    "batch_size = 16\n",
    "\n",
    "train_datagen = ImageDataGenerator(\n",
    "        rescale=1./255,\n",
    "        shear_range=0.9,\n",
    "        zoom_range=0.9,    \n",
    "        rotation_range=5,\n",
    "        horizontal_flip=True)\n",
    "\n",
    "test_datagen = ImageDataGenerator(rescale=1./255,)"
   ]
  },
  {
   "cell_type": "code",
   "execution_count": 161,
   "metadata": {},
   "outputs": [
    {
     "name": "stdout",
     "output_type": "stream",
     "text": [
      "Found 1185 images belonging to 2 classes.\n",
      "Found 296 images belonging to 2 classes.\n"
     ]
    }
   ],
   "source": [
    "train_generator = train_datagen.flow_from_directory(\n",
    "        './resized_data/train/',  # this is the target directory\n",
    "        target_size=(128, 128),  # all images will be resized to 150x150\n",
    "        batch_size=batch_size,\n",
    "        class_mode='binary')  # since we use binary_crossentropy loss, we need binary labels\n",
    "\n",
    "\n",
    "validation_generator = test_datagen.flow_from_directory(\n",
    "        './resized_data/test/',\n",
    "        target_size=(128, 128),\n",
    "        batch_size=batch_size,\n",
    "        class_mode='binary')"
   ]
  },
  {
   "cell_type": "code",
   "execution_count": 162,
   "metadata": {},
   "outputs": [
    {
     "name": "stdout",
     "output_type": "stream",
     "text": [
      "Epoch 1/30\n",
      "75/75 [==============================] - 23s - loss: 0.7497 - acc: 0.5416 - val_loss: 0.6903 - val_acc: 0.5312\n",
      "Epoch 2/30\n",
      "75/75 [==============================] - 22s - loss: 0.6667 - acc: 0.5758 - val_loss: 0.7438 - val_acc: 0.5107\n",
      "Epoch 3/30\n",
      "75/75 [==============================] - 22s - loss: 0.6574 - acc: 0.6191 - val_loss: 0.6796 - val_acc: 0.5393\n",
      "Epoch 4/30\n",
      "75/75 [==============================] - 22s - loss: 0.6389 - acc: 0.6383 - val_loss: 0.8130 - val_acc: 0.5571\n",
      "Epoch 5/30\n",
      "75/75 [==============================] - 23s - loss: 0.6303 - acc: 0.6341 - val_loss: 0.7101 - val_acc: 0.5250\n",
      "Epoch 6/30\n",
      "75/75 [==============================] - 22s - loss: 0.5945 - acc: 0.6716 - val_loss: 0.6212 - val_acc: 0.7071\n",
      "Epoch 7/30\n",
      "75/75 [==============================] - 22s - loss: 0.5878 - acc: 0.6841 - val_loss: 0.7345 - val_acc: 0.5286\n",
      "Epoch 8/30\n",
      "75/75 [==============================] - 22s - loss: 0.5892 - acc: 0.6841 - val_loss: 0.6708 - val_acc: 0.5429\n",
      "Epoch 9/30\n",
      "75/75 [==============================] - 22s - loss: 0.5652 - acc: 0.7016 - val_loss: 1.0179 - val_acc: 0.5357\n",
      "Epoch 10/30\n",
      "75/75 [==============================] - 24s - loss: 0.5707 - acc: 0.6959 - val_loss: 0.6992 - val_acc: 0.5107\n",
      "Epoch 11/30\n",
      "75/75 [==============================] - 23s - loss: 0.5590 - acc: 0.7125 - val_loss: 0.6488 - val_acc: 0.6571\n",
      "Epoch 12/30\n",
      "75/75 [==============================] - 22s - loss: 0.5519 - acc: 0.7308 - val_loss: 0.9149 - val_acc: 0.5357\n",
      "Epoch 13/30\n",
      "75/75 [==============================] - 22s - loss: 0.5184 - acc: 0.7533 - val_loss: 0.6718 - val_acc: 0.6179\n",
      "Epoch 14/30\n",
      "75/75 [==============================] - 22s - loss: 0.5324 - acc: 0.7441 - val_loss: 0.7588 - val_acc: 0.5893\n",
      "Epoch 15/30\n",
      "75/75 [==============================] - 22s - loss: 0.5127 - acc: 0.7458 - val_loss: 0.5374 - val_acc: 0.7607\n",
      "Epoch 16/30\n",
      "75/75 [==============================] - 22s - loss: 0.5258 - acc: 0.7416 - val_loss: 0.5685 - val_acc: 0.7357\n",
      "Epoch 17/30\n",
      "75/75 [==============================] - 22s - loss: 0.5323 - acc: 0.7358 - val_loss: 1.1349 - val_acc: 0.4679\n",
      "Epoch 18/30\n",
      "75/75 [==============================] - 22s - loss: 0.5219 - acc: 0.7341 - val_loss: 0.6655 - val_acc: 0.5857\n",
      "Epoch 19/30\n",
      "75/75 [==============================] - 22s - loss: 0.5298 - acc: 0.7241 - val_loss: 0.6518 - val_acc: 0.7357\n",
      "Epoch 20/30\n",
      "75/75 [==============================] - 22s - loss: 0.5182 - acc: 0.7508 - val_loss: 0.8347 - val_acc: 0.6875\n",
      "Epoch 21/30\n",
      "75/75 [==============================] - 22s - loss: 0.5294 - acc: 0.7483 - val_loss: 0.6809 - val_acc: 0.6821\n",
      "Epoch 22/30\n",
      "75/75 [==============================] - 23s - loss: 0.5612 - acc: 0.7285 - val_loss: 0.8212 - val_acc: 0.5071\n",
      "Epoch 23/30\n",
      "75/75 [==============================] - 22s - loss: 0.5178 - acc: 0.7400 - val_loss: 1.6795 - val_acc: 0.4679\n",
      "Epoch 24/30\n",
      "75/75 [==============================] - 22s - loss: 0.4932 - acc: 0.7360 - val_loss: 0.7800 - val_acc: 0.5107\n",
      "Epoch 25/30\n",
      "75/75 [==============================] - 22s - loss: 0.5204 - acc: 0.7360 - val_loss: 0.7143 - val_acc: 0.5464\n",
      "Epoch 26/30\n",
      "75/75 [==============================] - 22s - loss: 0.5170 - acc: 0.7533 - val_loss: 1.2683 - val_acc: 0.5857\n",
      "Epoch 27/30\n",
      "75/75 [==============================] - 22s - loss: 0.4996 - acc: 0.7683 - val_loss: 0.5716 - val_acc: 0.7071\n",
      "Epoch 28/30\n",
      "75/75 [==============================] - 22s - loss: 0.4973 - acc: 0.7816 - val_loss: 0.7271 - val_acc: 0.6500\n",
      "Epoch 29/30\n",
      "75/75 [==============================] - 22s - loss: 0.4978 - acc: 0.7633 - val_loss: 0.5963 - val_acc: 0.6893\n",
      "Epoch 30/30\n",
      "75/75 [==============================] - 22s - loss: 0.4858 - acc: 0.7675 - val_loss: 1.1654 - val_acc: 0.5750\n"
     ]
    },
    {
     "data": {
      "text/plain": [
       "<keras.callbacks.History at 0x12097e550>"
      ]
     },
     "execution_count": 162,
     "metadata": {},
     "output_type": "execute_result"
    }
   ],
   "source": [
    "model.fit_generator(\n",
    "        train_generator,\n",
    "        steps_per_epoch=1200 // batch_size,\n",
    "        epochs=30,\n",
    "        validation_data=validation_generator,\n",
    "        validation_steps=300 // batch_size)"
   ]
  },
  {
   "cell_type": "code",
   "execution_count": 104,
   "metadata": {},
   "outputs": [
    {
     "name": "stdout",
     "output_type": "stream",
     "text": [
      "1/1 [==============================] - 0s\n",
      "[[ 1.]]\n"
     ]
    }
   ],
   "source": [
    "hotdog_img = get_resized_image('./resized_data/train/hotdogs/20.jpg', (128,128))\n",
    "#img = get_resized_image('./resized_data/train/notdogs/30.jpg', (128, 128))\n",
    "x = img_to_array(hotdog_img)\n",
    "x_expanded = np.expand_dims(x, axis=0)\n",
    "y = model.predict(x_expanded, batch_size=1, verbose=1)\n",
    "print(y)"
   ]
  },
  {
   "cell_type": "code",
   "execution_count": 105,
   "metadata": {},
   "outputs": [
    {
     "name": "stdout",
     "output_type": "stream",
     "text": [
      "[[ 1.]]\n"
     ]
    }
   ],
   "source": [
    "notdog_img = get_resized_image('./resized_data/train/notdogs/1.jpg', (128, 128))\n",
    "x = img_to_array(notdog_img)\n",
    "x_expanded = np.expand_dims(x, axis=0)\n",
    "y = model.predict(x_expanded, batch_size=1)\n",
    "print(y)"
   ]
  },
  {
   "cell_type": "code",
   "execution_count": 95,
   "metadata": {},
   "outputs": [],
   "source": [
    "model.load_weights('hotdog.h5')"
   ]
  },
  {
   "cell_type": "code",
   "execution_count": 69,
   "metadata": {},
   "outputs": [
    {
     "data": {
      "text/plain": [
       "array([[ 1.]], dtype=float32)"
      ]
     },
     "execution_count": 69,
     "metadata": {},
     "output_type": "execute_result"
    }
   ],
   "source": [
    "y"
   ]
  },
  {
   "cell_type": "code",
   "execution_count": 134,
   "metadata": {},
   "outputs": [
    {
     "data": {
      "text/plain": [
       "[array([[ 1.]], dtype=float32),\n",
       " array([[ 1.]], dtype=float32),\n",
       " array([[ 1.]], dtype=float32),\n",
       " array([[ 1.]], dtype=float32),\n",
       " array([[ 1.]], dtype=float32),\n",
       " array([[ 1.]], dtype=float32),\n",
       " array([[ 0.]], dtype=float32),\n",
       " array([[ 1.]], dtype=float32),\n",
       " array([[ 1.]], dtype=float32),\n",
       " array([[ 1.]], dtype=float32),\n",
       " array([[ 1.]], dtype=float32),\n",
       " array([[ 1.]], dtype=float32),\n",
       " array([[ 1.]], dtype=float32),\n",
       " array([[ 1.]], dtype=float32),\n",
       " array([[ 0.]], dtype=float32),\n",
       " array([[ 1.]], dtype=float32),\n",
       " array([[ 1.]], dtype=float32),\n",
       " array([[ 1.]], dtype=float32),\n",
       " array([[ 1.]], dtype=float32),\n",
       " array([[ 1.]], dtype=float32),\n",
       " array([[ 0.]], dtype=float32),\n",
       " array([[ 1.]], dtype=float32),\n",
       " array([[ 1.]], dtype=float32),\n",
       " array([[ 1.]], dtype=float32),\n",
       " array([[ 1.]], dtype=float32),\n",
       " array([[ 1.]], dtype=float32),\n",
       " array([[ 1.]], dtype=float32),\n",
       " array([[ 0.]], dtype=float32),\n",
       " array([[ 1.]], dtype=float32),\n",
       " array([[ 1.]], dtype=float32),\n",
       " array([[ 1.]], dtype=float32),\n",
       " array([[ 1.]], dtype=float32),\n",
       " array([[ 1.]], dtype=float32),\n",
       " array([[ 1.]], dtype=float32),\n",
       " array([[ 1.]], dtype=float32),\n",
       " array([[ 1.]], dtype=float32),\n",
       " array([[ 1.]], dtype=float32),\n",
       " array([[ 1.]], dtype=float32),\n",
       " array([[ 1.]], dtype=float32),\n",
       " array([[ 1.]], dtype=float32),\n",
       " array([[ 0.]], dtype=float32),\n",
       " array([[ 1.]], dtype=float32),\n",
       " array([[ 1.]], dtype=float32),\n",
       " array([[ 1.]], dtype=float32),\n",
       " array([[ 1.]], dtype=float32),\n",
       " array([[ 1.]], dtype=float32),\n",
       " array([[ 1.]], dtype=float32),\n",
       " array([[ 1.]], dtype=float32),\n",
       " array([[ 1.]], dtype=float32),\n",
       " array([[ 1.]], dtype=float32),\n",
       " array([[ 1.]], dtype=float32),\n",
       " array([[ 1.]], dtype=float32),\n",
       " array([[ 1.]], dtype=float32),\n",
       " array([[ 1.]], dtype=float32),\n",
       " array([[ 1.]], dtype=float32),\n",
       " array([[ 1.]], dtype=float32),\n",
       " array([[ 1.]], dtype=float32),\n",
       " array([[ 1.]], dtype=float32),\n",
       " array([[ 1.]], dtype=float32),\n",
       " array([[ 1.]], dtype=float32),\n",
       " array([[ 1.]], dtype=float32),\n",
       " array([[ 1.]], dtype=float32),\n",
       " array([[ 1.]], dtype=float32),\n",
       " array([[ 1.]], dtype=float32),\n",
       " array([[ 1.]], dtype=float32),\n",
       " array([[ 1.]], dtype=float32),\n",
       " array([[ 1.]], dtype=float32),\n",
       " array([[  4.20132637e-05]], dtype=float32),\n",
       " array([[ 1.]], dtype=float32),\n",
       " array([[ 1.]], dtype=float32),\n",
       " array([[ 1.]], dtype=float32),\n",
       " array([[ 1.]], dtype=float32),\n",
       " array([[ 1.]], dtype=float32),\n",
       " array([[ 1.]], dtype=float32),\n",
       " array([[ 1.]], dtype=float32),\n",
       " array([[ 1.]], dtype=float32),\n",
       " array([[ 1.]], dtype=float32),\n",
       " array([[ 1.]], dtype=float32),\n",
       " array([[ 1.]], dtype=float32),\n",
       " array([[ 1.]], dtype=float32),\n",
       " array([[ 1.]], dtype=float32),\n",
       " array([[ 1.]], dtype=float32),\n",
       " array([[ 1.]], dtype=float32),\n",
       " array([[ 1.]], dtype=float32),\n",
       " array([[ 1.]], dtype=float32),\n",
       " array([[ 1.]], dtype=float32),\n",
       " array([[ 1.]], dtype=float32),\n",
       " array([[ 1.]], dtype=float32),\n",
       " array([[ 1.]], dtype=float32),\n",
       " array([[ 1.]], dtype=float32),\n",
       " array([[ 1.]], dtype=float32),\n",
       " array([[ 1.]], dtype=float32),\n",
       " array([[ 1.]], dtype=float32),\n",
       " array([[ 1.]], dtype=float32),\n",
       " array([[ 1.]], dtype=float32),\n",
       " array([[ 1.]], dtype=float32),\n",
       " array([[ 1.]], dtype=float32),\n",
       " array([[ 1.]], dtype=float32),\n",
       " array([[ 1.]], dtype=float32),\n",
       " array([[ 1.]], dtype=float32),\n",
       " array([[ 1.]], dtype=float32),\n",
       " array([[ 1.]], dtype=float32),\n",
       " array([[ 1.]], dtype=float32),\n",
       " array([[ 1.]], dtype=float32),\n",
       " array([[ 0.]], dtype=float32),\n",
       " array([[ 0.]], dtype=float32),\n",
       " array([[ 1.]], dtype=float32),\n",
       " array([[ 1.]], dtype=float32),\n",
       " array([[ 1.]], dtype=float32),\n",
       " array([[ 1.]], dtype=float32),\n",
       " array([[ 1.]], dtype=float32),\n",
       " array([[ 1.]], dtype=float32),\n",
       " array([[ 1.]], dtype=float32),\n",
       " array([[ 1.]], dtype=float32),\n",
       " array([[ 1.]], dtype=float32),\n",
       " array([[ 1.]], dtype=float32),\n",
       " array([[ 1.]], dtype=float32),\n",
       " array([[ 1.]], dtype=float32),\n",
       " array([[ 1.]], dtype=float32),\n",
       " array([[ 1.]], dtype=float32),\n",
       " array([[ 1.]], dtype=float32),\n",
       " array([[ 0.]], dtype=float32),\n",
       " array([[ 1.]], dtype=float32),\n",
       " array([[ 1.]], dtype=float32),\n",
       " array([[ 1.]], dtype=float32),\n",
       " array([[ 1.]], dtype=float32),\n",
       " array([[ 1.]], dtype=float32),\n",
       " array([[ 1.]], dtype=float32),\n",
       " array([[ 1.]], dtype=float32),\n",
       " array([[ 1.]], dtype=float32),\n",
       " array([[ 0.]], dtype=float32),\n",
       " array([[  1.61653654e-22]], dtype=float32),\n",
       " array([[ 1.]], dtype=float32),\n",
       " array([[ 1.]], dtype=float32),\n",
       " array([[ 1.]], dtype=float32),\n",
       " array([[ 1.]], dtype=float32),\n",
       " array([[ 1.]], dtype=float32),\n",
       " array([[ 1.]], dtype=float32),\n",
       " array([[ 1.]], dtype=float32),\n",
       " array([[ 1.]], dtype=float32),\n",
       " array([[ 1.]], dtype=float32),\n",
       " array([[ 1.]], dtype=float32),\n",
       " array([[ 1.]], dtype=float32),\n",
       " array([[ 1.]], dtype=float32),\n",
       " array([[ 1.]], dtype=float32),\n",
       " array([[ 1.]], dtype=float32),\n",
       " array([[ 1.]], dtype=float32),\n",
       " array([[ 1.]], dtype=float32),\n",
       " array([[ 1.]], dtype=float32),\n",
       " array([[ 1.]], dtype=float32),\n",
       " array([[ 1.]], dtype=float32),\n",
       " array([[ 1.]], dtype=float32),\n",
       " array([[ 1.]], dtype=float32),\n",
       " array([[ 1.]], dtype=float32),\n",
       " array([[ 1.]], dtype=float32)]"
      ]
     },
     "execution_count": 134,
     "metadata": {},
     "output_type": "execute_result"
    }
   ],
   "source": [
    "hotdog_predictions = []\n",
    "for subdir, dirs, files in os.walk('./resized_data/test/hotdogs/'):\n",
    "        for file in files:\n",
    "            if file != '.DS_Store':\n",
    "                img = Image.open('./resized_data/test/hotdogs/' + file)\n",
    "                x = img_to_array(img)\n",
    "                x = np.expand_dims(x, axis=0)\n",
    "                hotdog_predictions.append(model.predict(x))\n",
    "\n",
    "hotdog_predictions"
   ]
  },
  {
   "cell_type": "code",
   "execution_count": 132,
   "metadata": {},
   "outputs": [
    {
     "data": {
      "text/plain": [
       "[array([[ 1.]], dtype=float32),\n",
       " array([[ 1.]], dtype=float32),\n",
       " array([[ 1.]], dtype=float32),\n",
       " array([[ 1.]], dtype=float32),\n",
       " array([[ 1.]], dtype=float32),\n",
       " array([[ 1.]], dtype=float32),\n",
       " array([[ 1.]], dtype=float32),\n",
       " array([[ 1.]], dtype=float32),\n",
       " array([[ 1.]], dtype=float32),\n",
       " array([[ 1.]], dtype=float32),\n",
       " array([[ 1.]], dtype=float32),\n",
       " array([[ 1.]], dtype=float32),\n",
       " array([[ 1.]], dtype=float32),\n",
       " array([[ 1.]], dtype=float32),\n",
       " array([[ 1.]], dtype=float32),\n",
       " array([[ 1.]], dtype=float32),\n",
       " array([[ 1.]], dtype=float32),\n",
       " array([[ 1.]], dtype=float32),\n",
       " array([[ 1.]], dtype=float32),\n",
       " array([[ 0.]], dtype=float32),\n",
       " array([[ 1.]], dtype=float32),\n",
       " array([[ 1.]], dtype=float32),\n",
       " array([[ 1.]], dtype=float32),\n",
       " array([[ 1.]], dtype=float32),\n",
       " array([[ 1.]], dtype=float32),\n",
       " array([[ 1.]], dtype=float32),\n",
       " array([[ 1.]], dtype=float32),\n",
       " array([[ 1.]], dtype=float32),\n",
       " array([[ 1.]], dtype=float32),\n",
       " array([[ 1.]], dtype=float32),\n",
       " array([[ 1.]], dtype=float32),\n",
       " array([[ 1.]], dtype=float32),\n",
       " array([[ 1.]], dtype=float32),\n",
       " array([[ 1.]], dtype=float32),\n",
       " array([[ 1.]], dtype=float32),\n",
       " array([[ 1.]], dtype=float32),\n",
       " array([[ 1.]], dtype=float32),\n",
       " array([[ 1.]], dtype=float32),\n",
       " array([[ 1.]], dtype=float32),\n",
       " array([[ 1.]], dtype=float32),\n",
       " array([[ 1.]], dtype=float32),\n",
       " array([[ 1.]], dtype=float32),\n",
       " array([[ 1.]], dtype=float32),\n",
       " array([[ 1.]], dtype=float32),\n",
       " array([[ 1.]], dtype=float32),\n",
       " array([[ 1.]], dtype=float32),\n",
       " array([[ 1.]], dtype=float32),\n",
       " array([[ 1.]], dtype=float32),\n",
       " array([[ 1.]], dtype=float32),\n",
       " array([[ 1.]], dtype=float32),\n",
       " array([[ 1.]], dtype=float32),\n",
       " array([[ 1.]], dtype=float32),\n",
       " array([[ 1.]], dtype=float32),\n",
       " array([[ 1.]], dtype=float32),\n",
       " array([[ 1.]], dtype=float32),\n",
       " array([[ 1.]], dtype=float32),\n",
       " array([[ 1.]], dtype=float32),\n",
       " array([[ 1.]], dtype=float32),\n",
       " array([[ 1.]], dtype=float32),\n",
       " array([[ 1.]], dtype=float32),\n",
       " array([[ 1.]], dtype=float32),\n",
       " array([[ 1.]], dtype=float32),\n",
       " array([[ 1.]], dtype=float32),\n",
       " array([[ 1.]], dtype=float32),\n",
       " array([[ 1.]], dtype=float32),\n",
       " array([[ 1.]], dtype=float32),\n",
       " array([[ 1.]], dtype=float32),\n",
       " array([[ 1.]], dtype=float32),\n",
       " array([[ 1.]], dtype=float32),\n",
       " array([[ 1.]], dtype=float32),\n",
       " array([[ 1.]], dtype=float32),\n",
       " array([[ 1.]], dtype=float32),\n",
       " array([[ 1.]], dtype=float32),\n",
       " array([[ 1.]], dtype=float32),\n",
       " array([[ 1.]], dtype=float32),\n",
       " array([[ 1.]], dtype=float32),\n",
       " array([[ 1.]], dtype=float32),\n",
       " array([[ 1.]], dtype=float32),\n",
       " array([[ 1.]], dtype=float32),\n",
       " array([[ 0.]], dtype=float32),\n",
       " array([[ 1.]], dtype=float32),\n",
       " array([[ 1.]], dtype=float32),\n",
       " array([[ 1.]], dtype=float32),\n",
       " array([[ 1.]], dtype=float32),\n",
       " array([[ 1.]], dtype=float32),\n",
       " array([[ 1.]], dtype=float32),\n",
       " array([[ 1.]], dtype=float32),\n",
       " array([[ 1.]], dtype=float32),\n",
       " array([[ 1.]], dtype=float32),\n",
       " array([[ 1.]], dtype=float32),\n",
       " array([[ 1.]], dtype=float32),\n",
       " array([[ 1.]], dtype=float32),\n",
       " array([[ 1.]], dtype=float32),\n",
       " array([[ 1.]], dtype=float32),\n",
       " array([[ 1.]], dtype=float32),\n",
       " array([[ 1.]], dtype=float32),\n",
       " array([[ 1.]], dtype=float32),\n",
       " array([[ 1.]], dtype=float32),\n",
       " array([[ 1.]], dtype=float32),\n",
       " array([[ 1.]], dtype=float32),\n",
       " array([[ 1.]], dtype=float32),\n",
       " array([[ 1.]], dtype=float32),\n",
       " array([[ 1.]], dtype=float32),\n",
       " array([[ 1.]], dtype=float32),\n",
       " array([[ 1.]], dtype=float32),\n",
       " array([[ 1.]], dtype=float32),\n",
       " array([[ 1.]], dtype=float32),\n",
       " array([[ 1.]], dtype=float32),\n",
       " array([[ 1.]], dtype=float32),\n",
       " array([[ 1.]], dtype=float32),\n",
       " array([[ 1.]], dtype=float32),\n",
       " array([[ 1.]], dtype=float32),\n",
       " array([[ 1.]], dtype=float32),\n",
       " array([[ 1.]], dtype=float32),\n",
       " array([[ 1.]], dtype=float32),\n",
       " array([[ 1.]], dtype=float32),\n",
       " array([[ 1.]], dtype=float32),\n",
       " array([[ 1.]], dtype=float32),\n",
       " array([[ 1.]], dtype=float32),\n",
       " array([[ 1.]], dtype=float32),\n",
       " array([[ 1.]], dtype=float32),\n",
       " array([[ 1.]], dtype=float32),\n",
       " array([[ 1.]], dtype=float32),\n",
       " array([[ 1.]], dtype=float32),\n",
       " array([[ 1.]], dtype=float32),\n",
       " array([[ 1.]], dtype=float32),\n",
       " array([[ 1.]], dtype=float32),\n",
       " array([[ 1.]], dtype=float32),\n",
       " array([[ 1.]], dtype=float32),\n",
       " array([[ 1.]], dtype=float32),\n",
       " array([[ 1.]], dtype=float32),\n",
       " array([[ 1.]], dtype=float32),\n",
       " array([[ 1.]], dtype=float32),\n",
       " array([[ 1.]], dtype=float32),\n",
       " array([[ 1.]], dtype=float32),\n",
       " array([[ 1.]], dtype=float32),\n",
       " array([[ 1.]], dtype=float32),\n",
       " array([[ 1.]], dtype=float32),\n",
       " array([[ 1.]], dtype=float32),\n",
       " array([[ 1.]], dtype=float32),\n",
       " array([[ 1.]], dtype=float32)]"
      ]
     },
     "execution_count": 132,
     "metadata": {},
     "output_type": "execute_result"
    }
   ],
   "source": [
    "nothotdog_predictions = []\n",
    "for subdir, dirs, files in os.walk('./resized_data/test/notdogs/'):\n",
    "        for file in files:\n",
    "            if file != '.DS_Store':\n",
    "                img = Image.open('./resized_data/test/notdogs/' + file)\n",
    "                x = img_to_array(img)\n",
    "                x = np.expand_dims(x, axis=0)\n",
    "                nothotdog_predictions.append(model.predict(x))\n",
    "\n",
    "nothotdog_predictions"
   ]
  },
  {
   "cell_type": "code",
   "execution_count": null,
   "metadata": {
    "collapsed": true
   },
   "outputs": [],
   "source": []
  }
 ],
 "metadata": {
  "kernelspec": {
   "display_name": "Python 3",
   "language": "python",
   "name": "python3"
  },
  "language_info": {
   "codemirror_mode": {
    "name": "ipython",
    "version": 3
   },
   "file_extension": ".py",
   "mimetype": "text/x-python",
   "name": "python",
   "nbconvert_exporter": "python",
   "pygments_lexer": "ipython3",
   "version": "3.6.1"
  }
 },
 "nbformat": 4,
 "nbformat_minor": 2
}
